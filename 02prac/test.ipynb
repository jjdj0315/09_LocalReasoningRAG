{
 "cells": [
  {
   "cell_type": "code",
   "execution_count": null,
   "id": "fa5db260",
   "metadata": {},
   "outputs": [],
   "source": [
    "from langchain_ollama import ChatOllama\n",
    "\n",
    "reasoning_llm = ChatOllama(\n",
    "    model =\"deepseek-r1:7b\",\n",
    "    stop = [\"</think>\"]\n",
    ")\n",
    "\n",
    "answer_llm = ChatOllama(\n",
    "    model = \"exaone3.5\",\n",
    "    temperature=0\n",
    ")"
   ]
  },
  {
   "cell_type": "code",
   "execution_count": 6,
   "id": "94217caa",
   "metadata": {},
   "outputs": [],
   "source": [
    "from typing import TypedDict, List, Annotated\n",
    "from langchain_core.documents import Document\n",
    "from langgraph.graph.message import add_messages\n",
    "\n",
    "class RAGState(TypedDict):\n",
    "    \"RAG시스템 상태 정의\"\n",
    "    query : str\n",
    "    thinking : str\n",
    "    documents : List[Document]\n",
    "    answer : str #최종 답변\n",
    "    messages : Annotated[List, add_messages]\n",
    "    mode : str"
   ]
  },
  {
   "cell_type": "code",
   "execution_count": null,
   "id": "00098e0a",
   "metadata": {},
   "outputs": [],
   "source": [
    "from langchain_docling import DoclingLoader\n",
    "from langchain_docling.loader import ExportType\n",
    "\n",
    "FILE_PATH = \"https://arxiv.org/pdf/2408.09869\"\n",
    "\n",
    "loader = DoclingLoader(\n",
    "    file_path = FILE_PATH,\n",
    "    export_type = ExportType.MARKDOWN\n",
    ")"
   ]
  }
 ],
 "metadata": {
  "kernelspec": {
   "display_name": "venv",
   "language": "python",
   "name": "python3"
  },
  "language_info": {
   "codemirror_mode": {
    "name": "ipython",
    "version": 3
   },
   "file_extension": ".py",
   "mimetype": "text/x-python",
   "name": "python",
   "nbconvert_exporter": "python",
   "pygments_lexer": "ipython3",
   "version": "3.11.9"
  }
 },
 "nbformat": 4,
 "nbformat_minor": 5
}
