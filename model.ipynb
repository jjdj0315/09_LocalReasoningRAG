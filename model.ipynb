{
 "cells": [
  {
   "cell_type": "code",
   "execution_count": 1,
   "id": "f10d0f8a",
   "metadata": {},
   "outputs": [
    {
     "name": "stderr",
     "output_type": "stream",
     "text": [
      "c:\\02_practice\\09_LocalReasoningRAG\\venv\\Lib\\site-packages\\tqdm\\auto.py:21: TqdmWarning: IProgress not found. Please update jupyter and ipywidgets. See https://ipywidgets.readthedocs.io/en/stable/user_install.html\n",
      "  from .autonotebook import tqdm as notebook_tqdm\n",
      "Some weights of XLMRobertaModel were not initialized from the model checkpoint at BAAI/bge-reranker-base and are newly initialized: ['pooler.dense.bias', 'pooler.dense.weight']\n",
      "You should probably TRAIN this model on a down-stream task to be able to use it for predictions and inference.\n"
     ]
    },
    {
     "data": {
      "text/plain": [
       "('./models/bge-reranker-base\\\\tokenizer_config.json',\n",
       " './models/bge-reranker-base\\\\special_tokens_map.json',\n",
       " './models/bge-reranker-base\\\\tokenizer.json')"
      ]
     },
     "execution_count": 1,
     "metadata": {},
     "output_type": "execute_result"
    }
   ],
   "source": [
    "from transformers import AutoModel, AutoTokenizer\n",
    "\n",
    "model_name = \"BAAI/bge-reranker-base\"\n",
    "local_dir = \"./models/bge-reranker-base\"  # 원하는 저장 경로\n",
    "\n",
    "# 모델과 토크나이저 다운로드 후 저장\n",
    "model = AutoModel.from_pretrained(model_name)\n",
    "tokenizer = AutoTokenizer.from_pretrained(model_name)\n",
    "\n",
    "model.save_pretrained(local_dir)\n",
    "tokenizer.save_pretrained(local_dir)"
   ]
  },
  {
   "cell_type": "code",
   "execution_count": 1,
   "id": "e80f8856",
   "metadata": {},
   "outputs": [
    {
     "name": "stdout",
     "output_type": "stream",
     "text": [
      "스트리밍 테스트 시작:\n",
      "<think>\n",
      "好的，我现在要回答用户关于人工智能未来的问题。用户希望我用中文解释，所以我要确保内容清晰易懂。\n",
      "\n",
      "首先，我应该概述AI的现状和主要应用领域，比如医疗、金融、交通等，这样用户能有个全面的认识。\n",
      "\n",
      "接下来，涵盖AI可能带来的积极影响，比如提高效率、创造就业机会和改善生活质量，这些都是关键点。同时，也要提到潜在的风险，如隐私问题、就业结构变化以及技术对人类的影响，这需要平衡发展。\n",
      "\n",
      "然后，我应该讨论技术发展的可能性边界，指出当前的技术局限和未来可能的突破方向。最后，强调持续学习与伦理的重要性，说明AI必须适应不断变化的环境，并遵守道德规范。\n",
      "\n",
      "整体上，回答要全面但不过于复杂，让用户能够理解AI未来的多面性及其对社会的影响。\n",
      "</think>\n",
      "\n",
      "인공지능의 미래는 매우 다양하고 complex한데, 이에 대한  few 점 만 이해 들어 가 보면 그  future 를  forecast 할  수  있습니다.\n",
      "\n",
      "1. ** technologically  advanced  AI  systems **: \n",
      "   인공지능 는  ELF(Exponential Level of Progress) 기반 이  Granted  be  possible  &  will  revolutionize   virtually  all  aspects  of  human existence.  It  can  achieve  superior  human-level  intelligence,   creativity,   and  autonomy.\n",
      "\n",
      "2. ** ethical  and  societal  challenges **: \n",
      "   AI  is  likely  to  pose  significant  ethical  and  societal  challenges,  such  as  loss  of  jobs,   privacy  breaches,   and  moral  conflicts.  These  need  to  be  addressed  with  sophisticated  regulatory  and  ethical  frameworks.\n",
      "\n",
      "3.  Global  competition:\n",
      "   AI  will  drive  global  competition,   particularly  in  areas  such  as  autonomous  vehicles,  robotics,   and  healthcare.  This  will  stimate  economic  and  technological  advances.\n",
      "\n",
      "4.  Human-AI  collaboration:\n",
      "   AI  is  likely  to  become  an  integral  partner  in  human  endeavors,  assisting  us  in  decision-making,   creativity,   and  efficiency.  However,  humans  must  continue  to  lead  and  shape  the  evolution  of  AI.\n",
      "\n",
      "5.  Sustainable  development:\n",
      "   AI  can  play  a  key  role  in  achieving  sustainable  development,   climate  change  mitigation,  and  global  health  improvement.  But  this  requires  cooperation  among  different  stakeholders.\n",
      "\n",
      "6.  Education  and  training:\n",
      "   As  AI  becomes  more  ubiquitous,  there  will  be  a  need  for  new  forms  of  education  and  training  to  empower  people  to  understand  and  use  AI  technologies  safely.\n",
      "\n",
      "결론적으로, 인공지능  is  likely  to   reshape  the  world  in   profound  ways.  The  key  will  be   balanced  development  that  prioritizes  human  values,  ethics,  and  sustainability.  With   proper  guidance  and  leadership,  AI  can  be  a  force  of  good  in  the  global  stage.\n",
      "스트리밍 테스트 종료.\n"
     ]
    }
   ],
   "source": [
    "from langchain_ollama import ChatOllama\n",
    "from langchain_core.prompts import ChatPromptTemplate\n",
    "from langchain_core.output_parsers import StrOutputParser\n",
    "\n",
    "llm = ChatOllama(model=\"deepseek-r1:7b\", streaming=True) # 또는 exaone3.5\n",
    "prompt = ChatPromptTemplate.from_template(\"다음 질문에 답변하세요: {question}\")\n",
    "chain = prompt | llm | StrOutputParser()\n",
    "\n",
    "print(\"스트리밍 테스트 시작:\")\n",
    "for chunk in chain.stream({\"question\": \"인공지능의 미래에 대해 간략히 설명해줘.\"}):\n",
    "    print(chunk, end=\"\", flush=True) # flush=True가 중요\n",
    "print(\"\\n스트리밍 테스트 종료.\")"
   ]
  }
 ],
 "metadata": {
  "kernelspec": {
   "display_name": "venv",
   "language": "python",
   "name": "python3"
  },
  "language_info": {
   "codemirror_mode": {
    "name": "ipython",
    "version": 3
   },
   "file_extension": ".py",
   "mimetype": "text/x-python",
   "name": "python",
   "nbconvert_exporter": "python",
   "pygments_lexer": "ipython3",
   "version": "3.11.9"
  }
 },
 "nbformat": 4,
 "nbformat_minor": 5
}
