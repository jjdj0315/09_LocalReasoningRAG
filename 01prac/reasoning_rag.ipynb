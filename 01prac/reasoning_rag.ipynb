{
  "cells": [
    {
      "cell_type": "code",
      "execution_count": null,
      "metadata": {
        "id": "nB82Ll8c32lm"
      },
      "outputs": [],
      "source": [
        "%pip install -q langchain langgraph langchain-docling langchain-qdrant langchain-text-splitters langchain-ollama"
      ]
    },
    {
      "cell_type": "code",
      "execution_count": null,
      "metadata": {
        "id": "nYUOlTSf32ln"
      },
      "outputs": [],
      "source": [
        "import warnings\n",
        "warnings.filterwarnings(\"ignore\")"
      ]
    },
    {
      "cell_type": "code",
      "execution_count": null,
      "metadata": {
        "id": "rOfmg5HT32ln"
      },
      "outputs": [],
      "source": [
        "from langchain_ollama import ChatOllama\n",
        "\n",
        "reasoning_llm = ChatOllama(\n",
        "    model=\"deepseek-r1:7b\",\n",
        "    stop=[\"</think>\"]\n",
        ")\n",
        "\n",
        "answer_llm = ChatOllama(\n",
        "    model=\"exaone3.5\",\n",
        "    temperature=0,\n",
        "    )"
      ]
    },
    {
      "cell_type": "code",
      "execution_count": null,
      "metadata": {
        "id": "iBb5qxAp32lo"
      },
      "outputs": [],
      "source": [
        "from typing import Annotated, List, TypedDict, Literal\n",
        "from langgraph.graph.message import add_messages\n",
        "from langchain_core.documents import Document\n",
        "\n",
        "# RAG 상태 정의\n",
        "class RAGState(TypedDict):\n",
        "    \"\"\"RAG 시스템의 상태를 정의합니다.\"\"\"\n",
        "    query: str  # 사용자 질의\n",
        "    thinking: str  # reasoning_llm이 생성한 사고 과정\n",
        "    documents: List[Document]  # 검색된 문서\n",
        "    answer: str  # 최종 답변\n",
        "    messages: Annotated[List, add_messages]\n",
        "    mode: str"
      ]
    },
    {
      "cell_type": "code",
      "execution_count": null,
      "metadata": {
        "id": "cI3-c7Xz32lo",
        "outputId": "559de011-348d-4627-88af-f8a648b1b6e8"
      },
      "outputs": [
        {
          "name": "stderr",
          "output_type": "stream",
          "text": [
            "Could not load the custom kernel for multi-scale deformable attention: DLL load failed while importing MultiScaleDeformableAttention: 지정된 모듈을 찾을 수 없습니다.\n",
            "Could not load the custom kernel for multi-scale deformable attention: DLL load failed while importing MultiScaleDeformableAttention: 지정된 모듈을 찾을 수 없습니다.\n",
            "Could not load the custom kernel for multi-scale deformable attention: DLL load failed while importing MultiScaleDeformableAttention: 지정된 모듈을 찾을 수 없습니다.\n",
            "Could not load the custom kernel for multi-scale deformable attention: DLL load failed while importing MultiScaleDeformableAttention: 지정된 모듈을 찾을 수 없습니다.\n",
            "Could not load the custom kernel for multi-scale deformable attention: DLL load failed while importing MultiScaleDeformableAttention: 지정된 모듈을 찾을 수 없습니다.\n",
            "Could not load the custom kernel for multi-scale deformable attention: DLL load failed while importing MultiScaleDeformableAttention: 지정된 모듈을 찾을 수 없습니다.\n"
          ]
        }
      ],
      "source": [
        "from langchain_docling import DoclingLoader\n",
        "from langchain_docling.loader import ExportType\n",
        "\n",
        "FILE_PATH = \"https://arxiv.org/pdf/2408.09869\"\n",
        "\n",
        "loader = DoclingLoader(\n",
        "    file_path=FILE_PATH,\n",
        "    export_type=ExportType.MARKDOWN\n",
        "    )\n",
        "\n",
        "docs = loader.load()"
      ]
    },
    {
      "cell_type": "code",
      "execution_count": null,
      "metadata": {
        "id": "5RVkHdmD32lo",
        "outputId": "f664bc6f-7c6b-4f23-9b25-c67b7912d038"
      },
      "outputs": [
        {
          "name": "stdout",
          "output_type": "stream",
          "text": [
            "- d.page_content='Version 1.0  \\nChristoph Auer Maksym Lysak Ahmed Nassar Michele Dolfi Nikolaos Livathinos Panos Vagenas Cesar Berrospi Ramis Matteo Omenetti Fabian Lindlbauer Kasper Dinkla Lokesh Mishra Yusik Kim Shubham Gupta Rafael Teixeira de Lima Valery Weber Lucas Morin Ingmar Meijer Viktor Kuropiatnyk Peter W. J. Staar  \\nAI4K Group, IBM Research R¨uschlikon, Switzerland'\n",
            "- d.page_content='This technical report introduces Docling , an easy to use, self-contained, MITlicensed open-source package for PDF document conversion. It is powered by state-of-the-art specialized AI models for layout analysis (DocLayNet) and table structure recognition (TableFormer), and runs efficiently on commodity hardware in a small resource budget. The code interface allows for easy extensibility and addition of new features and models.'\n",
            "- d.page_content='Converting PDF documents back into a machine-processable format has been a major challenge for decades due to their huge variability in formats, weak standardization and printing-optimized characteristic, which discards most structural features and metadata. With the advent of LLMs and popular application patterns such as retrieval-augmented generation (RAG), leveraging the rich content embedded in PDFs has become ever more relevant. In the past decade, several powerful document understanding solutions have emerged on the market, most of which are commercial software, cloud offerings [3] and most recently, multi-modal vision-language models. As of today, only a handful of open-source tools cover PDF conversion, leaving a significant feature and quality gap to proprietary solutions.  \\nWith Docling , we open-source a very capable and efficient document conversion tool which builds on the powerful, specialized AI models and datasets for layout analysis and table structure recognition we developed and presented in the recent past [12, 13, 9]. Docling is designed as a simple, self-contained python library with permissive license, running entirely locally on commodity hardware. Its code architecture allows for easy extensibility and addition of new features and models.  \\nHere is what Docling delivers today:  \\n- · Converts PDF documents to JSON or Markdown format, stable and lightning fast\\n- · Understands detailed page layout, reading order, locates figures and recovers table structures\\n- · Extracts metadata from the document, such as title, authors, references and language\\n- · Optionally applies OCR, e.g. for scanned PDFs\\n- · Can be configured to be optimal for batch-mode (i.e high throughput, low time-to-solution) or interactive mode (compromise on efficiency, low time-to-solution)\\n- · Can leverage different accelerators (GPU, MPS, etc).'\n",
            "...\n"
          ]
        }
      ],
      "source": [
        "from langchain_text_splitters import MarkdownHeaderTextSplitter\n",
        "\n",
        "splitter = MarkdownHeaderTextSplitter(\n",
        "    headers_to_split_on=[\n",
        "        (\"#\", \"Header_1\"),\n",
        "        (\"##\", \"Header_2\"),\n",
        "        (\"###\", \"Header_3\"),\n",
        "    ],\n",
        ")\n",
        "splits = [split for doc in docs for split in splitter.split_text(doc.page_content)]\n",
        "\n",
        "for d in splits[:3]:\n",
        "    print(f\"- {d.page_content=}\")\n",
        "print(\"...\")"
      ]
    },
    {
      "cell_type": "code",
      "execution_count": null,
      "metadata": {
        "id": "1kFFyqb232lo",
        "outputId": "f927d21a-9430-4ba3-f529-11896e0095d3"
      },
      "outputs": [
        {
          "data": {
            "text/markdown": [
              "In this section, we establish some reference numbers for the processing speed of Docling and the resource budget it requires. All tests in this section are run with default options on our standard test set distributed with Docling, which consists of three papers from arXiv and two IBM Redbooks, with a total of 225 pages. Measurements were taken using both available PDF backends on two different hardware systems: one MacBook Pro M3 Max, and one bare-metal server running Ubuntu 20.04 LTS on an Intel Xeon E5-2690 CPU. For reproducibility, we fixed the thread budget (through setting OMP NUM THREADS environment variable ) once to 4 (Docling default) and once to 16 (equal to full core count on the test hardware). All results are shown in Table 1.  \n",
              "If you need to run Docling in very low-resource environments, please consider configuring the pypdfium backend. While it is faster and more memory efficient than the default docling-parse backend, it will come at the expense of worse quality results, especially in table structure recovery.  \n",
              "Establishing GPU acceleration support for the AI models is currently work-in-progress and largely untested, but may work implicitly when CUDA is available and discovered by the onnxruntime and  \n",
              "torch runtimes backing the Docling pipeline. We will deliver updates on this topic at in a future version of this report.  \n",
              "Table 1: Runtime characteristics of Docling with the standard model pipeline and settings, on our test dataset of 225 pages, on two different systems. OCR is disabled. We show the time-to-solution (TTS), computed throughput in pages per second, and the peak memory used (resident set size) for both the Docling-native PDF backend and for the pypdfium backend, using 4 and 16 threads.  \n",
              "| CPU                   | Thread budget   | native backend   | native backend   | native backend   | pypdfium backend   | pypdfium backend   | pypdfium backend   |\n",
              "|-----------------------|-----------------|------------------|------------------|------------------|--------------------|--------------------|--------------------|\n",
              "|                       | Thread budget   | TTS              | Pages/s          | Mem              | TTS                | Pages/s            | Mem                |\n",
              "| Apple M3 Max          | 4               | 177 s            | 1.27             | 6.20 GB          | 103 s              | 2.18               | 2.56 GB            |\n",
              "| (16 cores)            | 16              | 167 s            | 1.34             | 6.20 GB          | 92 s               | 2.45               | 2.56 GB            |\n",
              "| Intel(R) Xeon E5-2690 | 4 16            | 375 s 244 s      | 0.60 0.92        | 6.16 GB          | 239 s 143 s        | 0.94 1.57          | 2.42 GB            |"
            ],
            "text/plain": [
              "<IPython.core.display.Markdown object>"
            ]
          },
          "metadata": {},
          "output_type": "display_data"
        }
      ],
      "source": [
        "from IPython.display import Markdown\n",
        "\n",
        "display(Markdown(splits[12].page_content))"
      ]
    },
    {
      "cell_type": "code",
      "execution_count": null,
      "metadata": {
        "id": "cuTZMzWK32lp"
      },
      "outputs": [],
      "source": [
        "from langchain_ollama import OllamaEmbeddings\n",
        "\n",
        "embeddings = OllamaEmbeddings(\n",
        "    model=\"bge-m3:latest\",\n",
        ")"
      ]
    },
    {
      "cell_type": "code",
      "execution_count": null,
      "metadata": {
        "id": "u6OOBAew32lp"
      },
      "outputs": [],
      "source": [
        "from langchain_qdrant import QdrantVectorStore\n",
        "from langchain_qdrant import RetrievalMode\n",
        "\n",
        "vector_store = QdrantVectorStore.from_documents(\n",
        "    documents=splits,\n",
        "    embedding=embeddings,\n",
        "    location=\":memory:\",\n",
        "    collection_name=\"rag_collection_0228\",\n",
        "    retrieval_mode=RetrievalMode.DENSE\n",
        ")\n",
        "\n",
        "retriever = vector_store.as_retriever(search_kwargs = {'k':10})"
      ]
    },
    {
      "cell_type": "code",
      "execution_count": null,
      "metadata": {
        "id": "CmR4R-K232lp"
      },
      "outputs": [],
      "source": [
        "from langchain.retrievers import ContextualCompressionRetriever\n",
        "from langchain.retrievers.document_compressors import CrossEncoderReranker\n",
        "from langchain_community.cross_encoders import HuggingFaceCrossEncoder\n",
        "\n",
        "model = HuggingFaceCrossEncoder(model_name=\"BAAI/bge-reranker-base\")\n",
        "\n",
        "compressor = CrossEncoderReranker(model=model, top_n=5)\n",
        "compression_retriever = ContextualCompressionRetriever(\n",
        "    base_compressor=compressor, base_retriever=retriever\n",
        ")"
      ]
    },
    {
      "cell_type": "code",
      "execution_count": null,
      "metadata": {
        "id": "EvYUM8wG32lp"
      },
      "outputs": [],
      "source": [
        "from langchain_core.messages import HumanMessage\n",
        "from langchain_core.output_parsers import StrOutputParser\n",
        "from langchain_core.prompts import ChatPromptTemplate\n",
        "\n",
        "from langgraph.graph import START, StateGraph, END\n",
        "\n",
        "# 1. 질문 분류 함수 - 중요: 여기서는 상태를 업데이트하는 노드 함수\n",
        "def classify_node(state: RAGState):\n",
        "    \"\"\"질문을 분류하여 처리 모드를 결정합니다.\"\"\"\n",
        "    query = state[\"query\"]\n",
        "\n",
        "    if \"Docling\" in query:\n",
        "        print(\"=====검색 시작=====\")\n",
        "        return {\"mode\": \"retrieve\"}\n",
        "    else:\n",
        "        print(\"=====생성 시작=====\")\n",
        "        return {\"mode\": \"generate\"}\n",
        "\n",
        "\n",
        "# 2. 라우팅 함수 - 중요: 이 함수는 조건부 엣지에서 사용하며 문자열 반환\n",
        "def route_by_mode(state: RAGState) -> Literal[\"retrieve\", \"generate\"]:\n",
        "    \"\"\"모드에 따라 다음 단계를 결정합니다.\"\"\"\n",
        "    return state[\"mode\"]\n",
        "\n",
        "\n",
        "\n",
        "\n",
        "\n",
        "\n",
        "\n",
        "def retrieve(state: RAGState):\n",
        "    \"\"\"질의를 기반으로 관련 문서를 검색합니다.\"\"\"\n",
        "    query = state[\"query\"]\n",
        "    print(\"=====검색 시작=====\")\n",
        "    documents = compression_retriever.invoke(query)\n",
        "    for doc in documents:\n",
        "        print(doc.page_content)\n",
        "        print(\"-\"*100)\n",
        "    print(\"=====검색 완료=====\")\n",
        "    return {\"documents\": documents}\n",
        "\n",
        "\n",
        "\n",
        "\n",
        "\n",
        "\n",
        "\n",
        "def reasoning(state: RAGState):\n",
        "    \"\"\"쿼리를 분석하여 사고 과정을 생성합니다.\"\"\"\n",
        "    query = state[\"query\"]\n",
        "    documents = state[\"documents\"]\n",
        "\n",
        "    context = \"\\n\\n\".join([doc.page_content for doc in documents])\n",
        "\n",
        "    reasoning_prompt = ChatPromptTemplate.from_template(\n",
        "        \"\"\"주어진 문서를 활용하여 사용자의 질문에 가장 적절한 답변을 작성해주세요.\n",
        "\n",
        "        질문: {query}\n",
        "\n",
        "        문서 내용:\n",
        "        {context}\n",
        "\n",
        "\n",
        "        상세 추론:\"\"\"\n",
        "    )\n",
        "\n",
        "    reasoning_chain = reasoning_prompt | reasoning_llm | StrOutputParser()\n",
        "\n",
        "    print(\"=====추론 시작=====\")\n",
        "    thinking = reasoning_chain.invoke({\"query\": query, \"context\": context})\n",
        "\n",
        "    return {\"thinking\": thinking}\n",
        "\n",
        "\n",
        "\n",
        "# 3. 답변 생성 노드 (Answer LLM)\n",
        "def generate(state: RAGState):\n",
        "    \"\"\"문서와 추론 과정을 기반으로 최종 답변을 생성합니다.\"\"\"\n",
        "\n",
        "    query = state[\"query\"]\n",
        "    thinking = state.get(\"thinking\", \"\")  # get 메서드로 안전하게 접근\n",
        "    documents = state.get(\"documents\", [])  # get 메서드로 안전하게 접근\n",
        "\n",
        "    # 문서 내용 추출\n",
        "    context = \"\\n\\n\".join([doc.page_content for doc in documents])\n",
        "\n",
        "    # 최종 답변 생성을 위한 프롬프트\n",
        "    answer_prompt = ChatPromptTemplate.from_template(\n",
        "        \"\"\"사용자 질문에 한글로 답변하세요. 제공된 문서와 추론 과정이 있다면, 최대한 활용하세요.\n",
        "\n",
        "        질문:\n",
        "        {query}\n",
        "\n",
        "        추론 과정:\n",
        "        {thinking}\n",
        "\n",
        "        문서 내용:\n",
        "        {context}\n",
        "\n",
        "        답변:\"\"\"\n",
        "    )\n",
        "    print(\"=====답변 생성 시작=====\")\n",
        "\n",
        "    answer_chain = answer_prompt | answer_llm | StrOutputParser()\n",
        "\n",
        "    answer = answer_chain.invoke({\n",
        "        \"query\": query,\n",
        "        \"thinking\": thinking,\n",
        "        \"context\": context\n",
        "    })\n",
        "    print(\"=====답변 생성 완료=====\")\n",
        "    # 메시지에 답변 추가\n",
        "    return {\n",
        "        \"answer\": answer,\n",
        "        \"messages\": [HumanMessage(content=answer)]\n",
        "    }"
      ]
    },
    {
      "cell_type": "code",
      "execution_count": null,
      "metadata": {
        "id": "3mCRHYBg32lp"
      },
      "outputs": [],
      "source": [
        "from langgraph.checkpoint.memory import MemorySaver\n",
        "\n",
        "workflow = StateGraph(RAGState)\n",
        "\n",
        "# 노드 추가\n",
        "workflow.add_node(\"classify\", classify_node)\n",
        "workflow.add_node(\"reasoning\", reasoning)\n",
        "workflow.add_node(\"retrieve\", retrieve)\n",
        "workflow.add_node(\"generate\", generate)\n",
        "\n",
        "# 엣지 추가\n",
        "workflow.add_edge(START, \"classify\")\n",
        "workflow.add_conditional_edges(\n",
        "    \"classify\",\n",
        "    route_by_mode,  # 이 함수는 state[\"mode\"] 값을 반환\n",
        "    {\n",
        "        \"retrieve\": \"retrieve\",\n",
        "        \"generate\": \"generate\"\n",
        "    }\n",
        ")\n",
        "workflow.add_edge(\"retrieve\", \"reasoning\")\n",
        "workflow.add_edge(\"reasoning\", \"generate\")\n",
        "\n",
        "workflow.add_edge(\"generate\", END)\n",
        "\n",
        "memory = MemorySaver()\n",
        "app = workflow.compile(checkpointer=memory)"
      ]
    },
    {
      "cell_type": "code",
      "execution_count": null,
      "metadata": {
        "id": "F7dNfoDq32lp",
        "outputId": "22807e13-034a-4334-a0ec-bd73b0bdc687"
      },
      "outputs": [
        {
          "data": {
            "image/png": "[encoded data removed]",
            "text/plain": [
              "<IPython.core.display.Image object>"
            ]
          },
          "metadata": {},
          "output_type": "display_data"
        }
      ],
      "source": [
        "from IPython.display import Image, display\n",
        "\n",
        "display(Image(app.get_graph().draw_mermaid_png()))"
      ]
    },
    {
      "cell_type": "code",
      "execution_count": null,
      "metadata": {
        "id": "RVq-ufWH32lp",
        "outputId": "131e4c48-afac-456e-cae8-8fd283171ccc"
      },
      "outputs": [
        {
          "name": "stdout",
          "output_type": "stream",
          "text": [
            "=====검색 시작=====\n",
            "=====검색 시작=====\n",
            "Docling implements a linear pipeline of operations, which execute sequentially on each given document (see Fig. 1). Each document is first parsed by a PDF backend, which retrieves the programmatic text tokens, consisting of string content and its coordinates on the page, and also renders a bitmap image of each page to support downstream operations. Then, the standard model pipeline applies a sequence of AI models independently on every page in the document to extract features and content, such as layout and table structures. Finally, the results from all pages are aggregated and passed through a post-processing stage, which augments metadata, detects the document language, infers reading-order and eventually assembles a typed document object which can be serialized to JSON or Markdown.\n",
            "----------------------------------------------------------------------------------------------------\n",
            "Docling provides a straight-forward interface to extend its capabilities, namely the model pipeline. A model pipeline constitutes the central part in the processing, following initial document parsing and preceding output assembly, and can be fully customized by sub-classing from an abstract baseclass ( BaseModelPipeline ) or cloning the default model pipeline. This effectively allows to fully customize the chain of models, add or replace models, and introduce additional pipeline configuration parameters. To use a custom model pipeline, the custom pipeline class to instantiate can be provided as an argument to the main document conversion methods. We invite everyone in the community to propose additional or alternative models and improvements.  \n",
            "Implementations of model classes must satisfy the python Callable interface. The \\_\\_call\\_\\_ method must accept an iterator over page objects, and produce another iterator over the page objects which were augmented with the additional features predicted by the model, by extending the provided PagePredictions data model accordingly.\n",
            "----------------------------------------------------------------------------------------------------\n",
            "Converting PDF documents back into a machine-processable format has been a major challenge for decades due to their huge variability in formats, weak standardization and printing-optimized characteristic, which discards most structural features and metadata. With the advent of LLMs and popular application patterns such as retrieval-augmented generation (RAG), leveraging the rich content embedded in PDFs has become ever more relevant. In the past decade, several powerful document understanding solutions have emerged on the market, most of which are commercial software, cloud offerings [3] and most recently, multi-modal vision-language models. As of today, only a handful of open-source tools cover PDF conversion, leaving a significant feature and quality gap to proprietary solutions.  \n",
            "With Docling , we open-source a very capable and efficient document conversion tool which builds on the powerful, specialized AI models and datasets for layout analysis and table structure recognition we developed and presented in the recent past [12, 13, 9]. Docling is designed as a simple, self-contained python library with permissive license, running entirely locally on commodity hardware. Its code architecture allows for easy extensibility and addition of new features and models.  \n",
            "Here is what Docling delivers today:  \n",
            "- · Converts PDF documents to JSON or Markdown format, stable and lightning fast\n",
            "- · Understands detailed page layout, reading order, locates figures and recovers table structures\n",
            "- · Extracts metadata from the document, such as title, authors, references and language\n",
            "- · Optionally applies OCR, e.g. for scanned PDFs\n",
            "- · Can be configured to be optimal for batch-mode (i.e high throughput, low time-to-solution) or interactive mode (compromise on efficiency, low time-to-solution)\n",
            "- · Can leverage different accelerators (GPU, MPS, etc).\n",
            "----------------------------------------------------------------------------------------------------\n",
            "Docling provides optional support for OCR, for example to cover scanned PDFs or content in bitmaps images embedded on a page. In our initial release, we rely on EasyOCR [1], a popular thirdparty OCR library with support for many languages. Docling, by default, feeds a high-resolution page image (216 dpi) to the OCR engine, to allow capturing small print detail in decent quality. While EasyOCR delivers reasonable transcription quality, we observe that it runs fairly slow on CPU (upwards of 30 seconds per page).  \n",
            "We are actively seeking collaboration from the open-source community to extend Docling with additional OCR backends and speed improvements.\n",
            "----------------------------------------------------------------------------------------------------\n",
            "Docling is designed to allow easy extension of the model library and pipelines. In the future, we plan to extend Docling with several more models, such as a figure-classifier model, an equationrecognition model, a code-recognition model and more. This will help improve the quality of conversion for specific types of content, as well as augment extracted document metadata with additional information. Further investment into testing and optimizing GPU acceleration as well as improving the Docling-native PDF backend are on our roadmap, too.  \n",
            "We encourage everyone to propose or implement additional features and models, and will gladly take your inputs and contributions under review . The codebase of Docling is open for use and contribution, under the MIT license agreement and in alignment with our contributing guidelines included in the Docling repository. If you use Docling in your projects, please consider citing this technical report.\n",
            "----------------------------------------------------------------------------------------------------\n",
            "=====검색 완료=====\n",
            "=====추론 시작=====\n",
            "<think>\n",
            "Okay, so I'm trying to understand what makes Docling different from other libraries used for converting PDFs into machine-processable formats like JSON or Markdown. Let me go through the document step by step.\n",
            "\n",
            "First, it mentions that Docling uses a linear pipeline of operations. That means each part of the process happens one after another without any parallel processing. The first step is parsing the PDF using a backend specifically designed for Docling. This backend does two main things: it retrieves text tokens which include not just the string content but also their coordinates on the page, and it renders bitmap images of each page. Having the coordinates is probably useful for layout analysis later on.\n",
            "\n",
            "Next, after parsing, the standard model pipeline processes each page independently. It uses AI models to extract features like layout information and table structures. So this part seems focused on understanding how different parts of the document are organized.\n",
            "\n",
            "Then, all the results from these processing steps are aggregated, and a post-processing stage is applied. This stage does several things: it adds metadata, detects the language of the document, infers the reading order, and finally creates a typed document object that can be serialized into JSON or Markdown. That makes sense because you need structured data for machines to process.\n",
            "\n",
            "Looking at how Docling allows customization, I see that it's designed with an interface where users can extend its capabilities by subclassing an abstract model pipeline class. This means anyone can add or replace models in the pipeline without changing much of the existing code. It also mentions optional OCR support, which is great because not all PDFs might have text accessible via standard methods.\n",
            "\n",
            "The document highlights some unique features compared to other solutions. It emphasizes that Docling addresses a long-standing challenge due to the variability and poor standardization of PDF formats. Using LLMs and retrieval-augmented generation (RAG) has made it easier to work with PDF content, but there's still a big gap in open-source tools.\n",
            "\n",
            "Docling specifically mentions its use of specialized AI models for layout analysis and table structures, developed previously by the authors. This indicates that Docling is built on solid existing research and has a specific focus on these areas, which might give it an edge in handling complex PDFs with lots of text or structured content.\n",
            "\n",
            "The code architecture is described as simple and self-contained, which is good because it means it's easier to understand, modify, and extend. The permissive license also encourages community contributions, which can lead to continuous improvement and adaptation to different needs.\n",
            "\n",
            "In terms of performance, Docling claims to be fast and efficient for batch processing or interactive use. It supports various accelerators like GPUs, which is important for handling large documents quickly. There's a mention that OCR can be slow with CPU due to the high resolution images used by default, but there are plans to improve this with more community contributions.\n",
            "\n",
            "The planned future improvements include adding models like figure classifiers, equation recognizers, and code recognizers. This shows that Docling is looking to expand its capabilities beyond just text layout and tables, which could make it even more versatile for different types of documents.\n",
            "\n",
            "There's also a mention of ongoing testing and optimization efforts for GPU acceleration and PDF backend improvements, indicating that the library is actively being developed and refined.\n",
            "\n",
            "Lastly, since Docling is open-source under MIT license with clear contributing guidelines, it's easy to participate if you're interested in adding features or suggesting changes. Plus, citing them appropriately is encouraged if used in projects, which is good for academic or collaborative work.\n",
            "\n",
            "So putting this all together, the key points that make Docling different are its modular pipeline approach, focus on layout and table analysis, extensibility with community contributions, efficient processing capabilities, OCR support with plans for optimization, and being open-source with a permissive license.\n",
            "\n",
            "\n",
            "\n",
            "=====답변 생성 시작=====\n",
            "Docling이 다른 PDF 변환 라이브러리와 다른 주요 특징들은 다음과 같습니다:\n",
            "\n",
            "1. **모듈화된 파이프라인 구조**: Docling은 선형 파이프라인을 사용하여 각 단계가 순차적으로 실행됩니다. 이는 PDF 파싱부터 포스트 프로세싱까지 명확한 단계별 처리를 가능하게 하며, 각 단계를 독립적으로 확장하거나 수정할 수 있는 유연성을 제공합니다. 이는 다른 라이브러리들이 종종 더 고정된 구조를 가질 수 있는 것과 대조적입니다.\n",
            "\n",
            "2. **고도화된 모델 확장성**: Docling은 사용자 정의 모델 파이프라인을 쉽게 구현할 수 있도록 설계되었습니다. `BaseModelPipeline` 추상 클래스를 상속받아 모델 체인을 완전히 맞춤화할 수 있습니다. 이를 통해 사용자는 필요한 모델을 추가하거나 교체하여 특정 작업에 최적화된 파이프라인을 만들 수 있습니다.\n",
            "\n",
            "3. **상세한 레이아웃 이해 및 구조 인식**: Docling은 페이지 레이아웃, 읽기 순서, 그림 위치 파악, 그리고 테이블 구조 인식 등에 강점을 두고 있습니다. 이는 단순한 텍스트 추출을 넘어 문서의 구조적 요소까지 포괄적으로 이해하고 처리할 수 있다는 점에서 차별화됩니다.\n",
            "\n",
            "4. **오픈 소스 및 커뮤니티 참여**: Docling은 오픈 소스 프로젝트로, 커뮤니티의 기여를 적극적으로 환영합니다. 사용자와 개발자들은 새로운 모델, 기능, 그리고 성능 개선을 제안하거나 직접 구현할 수 있습니다. 이는 상업적 솔루션들과 달리 지속적인 개선과 혁신을 가능하게 합니다.\n",
            "\n",
            "5. **다양한 하드웨어 가속 지원**: Docling은 GPU, MPS 등 다양한 하드웨어 가속기를 활용할 수 있어, 처리 속도를 크게 향상시킬 수 있습니다. 특히 OCR 기능에서 높은 해상도로 이미지를 처리할 수 있어, 스캔된 PDF나 비트맵 이미지 내의 내용을 효과적으로 인식합니다.\n",
            "\n",
            "6. **유연한 사용 모드**: 배치 모드와 인터랙티브 모드를 지원하여 사용자의 요구에 따라 효율성과 처리 시간 사이의 균형을 맞출 수 있습니다. 이는 다양한 사용 사례에 맞게 최적화된 성능을 제공합니다.\n",
            "\n",
            "이러한 특징들로 인해 Docling은 단순한 PDF 텍스트 추출을 넘어 문서의 복잡한 구조와 메타데이터를 효과적으로 이해하고 변환하는 데 특화된 도구로 자리매김하고 있습니다.\n",
            "\n",
            "\n",
            "=====답변 생성 완료=====\n"
          ]
        }
      ],
      "source": [
        "input={\"query\":\"Docling이 다른 라이브러리와 다른 점이 무엇인지 설명해줘\"}\n",
        "config={\"configurable\": {\"thread_id\": 0}}\n",
        "\n",
        "async for event in app.astream_events(\n",
        "    input=input, stream_mode=\"events\", version=\"v2\",config=config\n",
        "    ):\n",
        "\n",
        "    kind = event[\"event\"]\n",
        "\n",
        "    if kind == \"on_chat_model_stream\":\n",
        "        chunk = event[\"data\"][\"chunk\"].content\n",
        "        print(chunk, end=\"\", flush=True)\n",
        "\n",
        "    elif kind == \"on_retriever_end \":\n",
        "        print(event)\n",
        "\n",
        "    elif kind == \"on_chat_model_end\":\n",
        "        print(\"\\n\\n\")"
      ]
    },
    {
      "cell_type": "code",
      "execution_count": null,
      "metadata": {
        "id": "ZxSP3PMT32lp",
        "outputId": "e5c56a38-d692-4384-f34e-4a02e0204508"
      },
      "outputs": [
        {
          "data": {
            "text/plain": [
              "[Document(metadata={'Header_2': '3 Processing pipeline', '_id': '0360021a3d7f4d478ac824243eec2943', '_collection_name': 'rag_collection_0228'}, page_content='Docling implements a linear pipeline of operations, which execute sequentially on each given document (see Fig. 1). Each document is first parsed by a PDF backend, which retrieves the programmatic text tokens, consisting of string content and its coordinates on the page, and also renders a bitmap image of each page to support downstream operations. Then, the standard model pipeline applies a sequence of AI models independently on every page in the document to extract features and content, such as layout and table structures. Finally, the results from all pages are aggregated and passed through a post-processing stage, which augments metadata, detects the document language, infers reading-order and eventually assembles a typed document object which can be serialized to JSON or Markdown.'),\n",
              " Document(metadata={'Header_2': '3.4 Extensibility', '_id': 'aed257a8a12d47a1b3c7b35066924da2', '_collection_name': 'rag_collection_0228'}, page_content='Docling provides a straight-forward interface to extend its capabilities, namely the model pipeline. A model pipeline constitutes the central part in the processing, following initial document parsing and preceding output assembly, and can be fully customized by sub-classing from an abstract baseclass ( BaseModelPipeline ) or cloning the default model pipeline. This effectively allows to fully customize the chain of models, add or replace models, and introduce additional pipeline configuration parameters. To use a custom model pipeline, the custom pipeline class to instantiate can be provided as an argument to the main document conversion methods. We invite everyone in the community to propose additional or alternative models and improvements.  \\nImplementations of model classes must satisfy the python Callable interface. The \\\\_\\\\_call\\\\_\\\\_ method must accept an iterator over page objects, and produce another iterator over the page objects which were augmented with the additional features predicted by the model, by extending the provided PagePredictions data model accordingly.'),\n",
              " Document(metadata={'Header_2': '1 Introduction', '_id': 'bd5efd6b7e4b4884bed34cf7e61895c2', '_collection_name': 'rag_collection_0228'}, page_content='Converting PDF documents back into a machine-processable format has been a major challenge for decades due to their huge variability in formats, weak standardization and printing-optimized characteristic, which discards most structural features and metadata. With the advent of LLMs and popular application patterns such as retrieval-augmented generation (RAG), leveraging the rich content embedded in PDFs has become ever more relevant. In the past decade, several powerful document understanding solutions have emerged on the market, most of which are commercial software, cloud offerings [3] and most recently, multi-modal vision-language models. As of today, only a handful of open-source tools cover PDF conversion, leaving a significant feature and quality gap to proprietary solutions.  \\nWith Docling , we open-source a very capable and efficient document conversion tool which builds on the powerful, specialized AI models and datasets for layout analysis and table structure recognition we developed and presented in the recent past [12, 13, 9]. Docling is designed as a simple, self-contained python library with permissive license, running entirely locally on commodity hardware. Its code architecture allows for easy extensibility and addition of new features and models.  \\nHere is what Docling delivers today:  \\n- · Converts PDF documents to JSON or Markdown format, stable and lightning fast\\n- · Understands detailed page layout, reading order, locates figures and recovers table structures\\n- · Extracts metadata from the document, such as title, authors, references and language\\n- · Optionally applies OCR, e.g. for scanned PDFs\\n- · Can be configured to be optimal for batch-mode (i.e high throughput, low time-to-solution) or interactive mode (compromise on efficiency, low time-to-solution)\\n- · Can leverage different accelerators (GPU, MPS, etc).'),\n",
              " Document(metadata={'Header_2': 'OCR', '_id': '202d183e9b6646ed8664a60d54baa38f', '_collection_name': 'rag_collection_0228'}, page_content='Docling provides optional support for OCR, for example to cover scanned PDFs or content in bitmaps images embedded on a page. In our initial release, we rely on EasyOCR [1], a popular thirdparty OCR library with support for many languages. Docling, by default, feeds a high-resolution page image (216 dpi) to the OCR engine, to allow capturing small print detail in decent quality. While EasyOCR delivers reasonable transcription quality, we observe that it runs fairly slow on CPU (upwards of 30 seconds per page).  \\nWe are actively seeking collaboration from the open-source community to extend Docling with additional OCR backends and speed improvements.'),\n",
              " Document(metadata={'Header_2': '6 Future work and contributions', '_id': 'b451dd335b17435d8ab770625653729e', '_collection_name': 'rag_collection_0228'}, page_content='Docling is designed to allow easy extension of the model library and pipelines. In the future, we plan to extend Docling with several more models, such as a figure-classifier model, an equationrecognition model, a code-recognition model and more. This will help improve the quality of conversion for specific types of content, as well as augment extracted document metadata with additional information. Further investment into testing and optimizing GPU acceleration as well as improving the Docling-native PDF backend are on our roadmap, too.  \\nWe encourage everyone to propose or implement additional features and models, and will gladly take your inputs and contributions under review . The codebase of Docling is open for use and contribution, under the MIT license agreement and in alignment with our contributing guidelines included in the Docling repository. If you use Docling in your projects, please consider citing this technical report.')]"
            ]
          },
          "execution_count": 111,
          "metadata": {},
          "output_type": "execute_result"
        }
      ],
      "source": [
        "snap=app.get_state(config)\n",
        "snap.values['documents']"
      ]
    }
  ],
  "metadata": {
    "kernelspec": {
      "display_name": "test_venv",
      "language": "python",
      "name": "python3"
    },
    "language_info": {
      "codemirror_mode": {
        "name": "ipython",
        "version": 3
      },
      "file_extension": ".py",
      "mimetype": "text/x-python",
      "name": "python",
      "nbconvert_exporter": "python",
      "pygments_lexer": "ipython3",
      "version": "3.11.10"
    },
    "colab": {
      "provenance": []
    }
  },
  "nbformat": 4,
  "nbformat_minor": 0
}