{
  "cells": [
    {
      "cell_type": "code",
      "execution_count": null,
      "metadata": {
        "id": "nB82Ll8c32lm"
      },
      "outputs": [],
      "source": [
        "%pip install -q langchain langgraph langchain-docling langchain-qdrant langchain-text-splitters langchain-ollama"
      ]
    },
    {
      "cell_type": "code",
      "execution_count": 1,
      "metadata": {
        "id": "nYUOlTSf32ln"
      },
      "outputs": [],
      "source": [
        "import warnings\n",
        "warnings.filterwarnings(\"ignore\")"
      ]
    },
    {
      "cell_type": "code",
      "execution_count": 2,
      "metadata": {
        "id": "rOfmg5HT32ln"
      },
      "outputs": [],
      "source": [
        "from langchain_ollama import ChatOllama\n",
        "\n",
        "reasoning_llm = ChatOllama(\n",
        "    model=\"deepseek-r1:7b\",\n",
        "    stop=[\"</think>\"]\n",
        ")\n",
        "\n",
        "answer_llm = ChatOllama(\n",
        "    model=\"exaone3.5\",\n",
        "    temperature=0,\n",
        "    )"
      ]
    },
    {
      "cell_type": "code",
      "execution_count": 3,
      "metadata": {
        "id": "iBb5qxAp32lo"
      },
      "outputs": [],
      "source": [
        "from typing import Annotated, List, TypedDict, Literal\n",
        "from langgraph.graph.message import add_messages\n",
        "from langchain_core.documents import Document\n",
        "\n",
        "# RAG 상태 정의\n",
        "class RAGState(TypedDict):\n",
        "    \"\"\"RAG 시스템의 상태를 정의합니다.\"\"\"\n",
        "    query: str  # 사용자 질의\n",
        "    thinking: str  # reasoning_llm이 생성한 사고 과정\n",
        "    documents: List[Document]  # 검색된 문서\n",
        "    answer: str  # 최종 답변\n",
        "    messages: Annotated[List, add_messages]\n",
        "    mode: str"
      ]
    },
    {
      "cell_type": "code",
      "execution_count": 5,
      "metadata": {
        "id": "cI3-c7Xz32lo",
        "outputId": "559de011-348d-4627-88af-f8a648b1b6e8"
      },
      "outputs": [
        {
          "name": "stderr",
          "output_type": "stream",
          "text": [
            "Error while downloading from https://cdn-lfs-us-1.hf.co/repos/84/16/8416a7eb6bc0964a8abb5bb890afca2b8384fdc1e010a788e6c411a97c4d2305/3119563aab5a7c96fda4d621119b63fd8806272b86c30936d15507616422f718?response-content-disposition=inline%3B+filename*%3DUTF-8%27%27tableformer_fast.safetensors%3B+filename%3D%22tableformer_fast.safetensors%22%3B&Expires=1748435094&Policy=eyJTdGF0ZW1lbnQiOlt7IkNvbmRpdGlvbiI6eyJEYXRlTGVzc1RoYW4iOnsiQVdTOkVwb2NoVGltZSI6MTc0ODQzNTA5NH19LCJSZXNvdXJjZSI6Imh0dHBzOi8vY2RuLWxmcy11cy0xLmhmLmNvL3JlcG9zLzg0LzE2Lzg0MTZhN2ViNmJjMDk2NGE4YWJiNWJiODkwYWZjYTJiODM4NGZkYzFlMDEwYTc4OGU2YzQxMWE5N2M0ZDIzMDUvMzExOTU2M2FhYjVhN2M5NmZkYTRkNjIxMTE5YjYzZmQ4ODA2MjcyYjg2YzMwOTM2ZDE1NTA3NjE2NDIyZjcxOD9yZXNwb25zZS1jb250ZW50LWRpc3Bvc2l0aW9uPSoifV19&Signature=UyjAuzsAZtZ6749wp8QBQepAbpP%7EY2XzpX4mIbboRIojY4kYfNLuD0UktnY14T1k95vzr5oiyzeXpSAY1EuKdIaos9NAVwCeuoMkELjvPxYIMtBSXfktT4uANfP5%7E%7E%7EI542VS27DAxQVsx1vcJVd-mGKhyMW9AK9Jvo9Ila8APUscVFu-uW6FWsOo1hSUgB7BogXKyWbENwnvxMV1h0ZB2Q7q9j2g4b-YRVMotahW4Ms0GVqoWzR6l6%7EDd4%7EEu34pXqbsogzbh5XdbW6TDN8-bzV111RoYgF5%7EVrH46276j0e1NG21itok-YsqiH4pM3cEOaNvkl6rcshvAwanxEzQ__&Key-Pair-Id=K24J24Z295AEI9: HTTPSConnectionPool(host='cdn-lfs-us-1.hf.co', port=443): Read timed out.\n",
            "Trying to resume download...\n",
            "Error while downloading from https://cdn-lfs-us-1.hf.co/repos/84/16/8416a7eb6bc0964a8abb5bb890afca2b8384fdc1e010a788e6c411a97c4d2305/2a7d6c924b3cd12fb99a09280ca9c33a89c5d60b93253617d2e088c1a40374d9?response-content-disposition=inline%3B+filename*%3DUTF-8%27%27tableformer_accurate.safetensors%3B+filename%3D%22tableformer_accurate.safetensors%22%3B&Expires=1748436253&Policy=eyJTdGF0ZW1lbnQiOlt7IkNvbmRpdGlvbiI6eyJEYXRlTGVzc1RoYW4iOnsiQVdTOkVwb2NoVGltZSI6MTc0ODQzNjI1M319LCJSZXNvdXJjZSI6Imh0dHBzOi8vY2RuLWxmcy11cy0xLmhmLmNvL3JlcG9zLzg0LzE2Lzg0MTZhN2ViNmJjMDk2NGE4YWJiNWJiODkwYWZjYTJiODM4NGZkYzFlMDEwYTc4OGU2YzQxMWE5N2M0ZDIzMDUvMmE3ZDZjOTI0YjNjZDEyZmI5OWEwOTI4MGNhOWMzM2E4OWM1ZDYwYjkzMjUzNjE3ZDJlMDg4YzFhNDAzNzRkOT9yZXNwb25zZS1jb250ZW50LWRpc3Bvc2l0aW9uPSoifV19&Signature=OpPcEe4HubI%7EFe5Dxub6--JsGZmTZo75X3soWnIE73SatdFilk4ZvebRPaTT2ODSlJqW8NOwWcKzf63-vToD5sZNeodosfjTMU81KPGRyQUlYnOFrxP45w1-Ra8E54vtRbmg0b9%7EL8xrUSfa2O56YFEG0hBYTdiVA8bp1YnHnFoG5HY5VIAPsGVb%7EWBPmn26xWla07qWOMY8EkUlHR8PK7nfKpNLTZhVFu6RAHv32LCPAbrkdoFeqIVPCTLeZ90a-S1xsn00cFaaGQJFSNIYYC8Q5XGYPktIFymKmmDW2t53zWS6W4cHsNpoEiicHdejCJYoR-oEerFp-QxXG%7EAayg__&Key-Pair-Id=K24J24Z295AEI9: HTTPSConnectionPool(host='cdn-lfs-us-1.hf.co', port=443): Read timed out.\n",
            "Trying to resume download...\n",
            "Error while downloading from https://cdn-lfs-us-1.hf.co/repos/84/16/8416a7eb6bc0964a8abb5bb890afca2b8384fdc1e010a788e6c411a97c4d2305/31e60b4709571b613bc8736a9c982fb550d8d7a1809160a68a8282af60c8910b?response-content-disposition=inline%3B+filename*%3DUTF-8%27%27model.safetensors%3B+filename%3D%22model.safetensors%22%3B&Expires=1748434983&Policy=eyJTdGF0ZW1lbnQiOlt7IkNvbmRpdGlvbiI6eyJEYXRlTGVzc1RoYW4iOnsiQVdTOkVwb2NoVGltZSI6MTc0ODQzNDk4M319LCJSZXNvdXJjZSI6Imh0dHBzOi8vY2RuLWxmcy11cy0xLmhmLmNvL3JlcG9zLzg0LzE2Lzg0MTZhN2ViNmJjMDk2NGE4YWJiNWJiODkwYWZjYTJiODM4NGZkYzFlMDEwYTc4OGU2YzQxMWE5N2M0ZDIzMDUvMzFlNjBiNDcwOTU3MWI2MTNiYzg3MzZhOWM5ODJmYjU1MGQ4ZDdhMTgwOTE2MGE2OGE4MjgyYWY2MGM4OTEwYj9yZXNwb25zZS1jb250ZW50LWRpc3Bvc2l0aW9uPSoifV19&Signature=Y%7ESyYurUngj%7EQONPi%7E0eptGbrSyxIbRC7STpaalvwVvemD36WSZmJZ1AgnK6pu0Zx%7EVeXW6tfnHAxY5WcCim-Stim5IaLqvgq8xQjKdk8nXYFcOGuEhUcrnfbssOGGZDcsLeWM3wAoKaio1eGgdPqg410KujhRQ%7EAYe4YTfj%7EBLEKHFi1dmidh%7EmgXQ9wSjjpNhDAXcnnRYFpy2j5gyFJcGJX3mmdxx1ng8CAUnfQwjYeCWC3MhvfX03Y6q1pNmcB4PAT%7E6Q8M%7EzvGWaUEOxKfzD4J9Uk1nM54zGyhWyLO-gRTfU8kkbNlnksUFkZLpcB8wz2ykrgkANw0kEDRES%7Ew__&Key-Pair-Id=K24J24Z295AEI9: HTTPSConnectionPool(host='cdn-lfs-us-1.hf.co', port=443): Read timed out.\n",
            "Trying to resume download...\n"
          ]
        }
      ],
      "source": [
        "from langchain_docling import DoclingLoader\n",
        "from langchain_docling.loader import ExportType\n",
        "\n",
        "FILE_PATH = \"https://arxiv.org/pdf/2408.09869\"\n",
        "\n",
        "loader = DoclingLoader(\n",
        "    file_path=FILE_PATH,\n",
        "    export_type=ExportType.MARKDOWN\n",
        "    )\n",
        "\n",
        "docs = loader.load()"
      ]
    },
    {
      "cell_type": "code",
      "execution_count": 6,
      "metadata": {
        "id": "5RVkHdmD32lo",
        "outputId": "f664bc6f-7c6b-4f23-9b25-c67b7912d038"
      },
      "outputs": [
        {
          "name": "stdout",
          "output_type": "stream",
          "text": [
            "- d.page_content='Version 1.0  \\nChristoph Auer Maksym Lysak Ahmed Nassar Michele Dolfi Nikolaos Livathinos Panos Vagenas Cesar Berrospi Ramis Matteo Omenetti Fabian Lindlbauer Kasper Dinkla Lokesh Mishra Yusik Kim Shubham Gupta Rafael Teixeira de Lima Valery Weber Lucas Morin Ingmar Meijer Viktor Kuropiatnyk Peter W. J. Staar  \\nAI4K Group, IBM Research R¨ uschlikon, Switzerland'\n",
            "- d.page_content='This technical report introduces Docling , an easy to use, self-contained, MITlicensed open-source package for PDF document conversion. It is powered by state-of-the-art specialized AI models for layout analysis (DocLayNet) and table structure recognition (TableFormer), and runs efficiently on commodity hardware in a small resource budget. The code interface allows for easy extensibility and addition of new features and models.'\n",
            "- d.page_content='Converting PDF documents back into a machine-processable format has been a major challenge for decades due to their huge variability in formats, weak standardization and printing-optimized characteristic, which discards most structural features and metadata. With the advent of LLMs and popular application patterns such as retrieval-augmented generation (RAG), leveraging the rich content embedded in PDFs has become ever more relevant. In the past decade, several powerful document understanding solutions have emerged on the market, most of which are commercial software, cloud offerings [3] and most recently, multi-modal vision-language models. As of today, only a handful of open-source tools cover PDF conversion, leaving a significant feature and quality gap to proprietary solutions.  \\nWith Docling , we open-source a very capable and efficient document conversion tool which builds on the powerful, specialized AI models and datasets for layout analysis and table structure recognition we developed and presented in the recent past [12, 13, 9]. Docling is designed as a simple, self-contained python library with permissive license, running entirely locally on commodity hardware. Its code architecture allows for easy extensibility and addition of new features and models.  \\nHere is what Docling delivers today:  \\n- · Converts PDF documents to JSON or Markdown format, stable and lightning fast\\n- · Understands detailed page layout, reading order, locates figures and recovers table structures\\n- · Extracts metadata from the document, such as title, authors, references and language\\n- · Optionally applies OCR, e.g. for scanned PDFs\\n- · Can be configured to be optimal for batch-mode (i.e high throughput, low time-to-solution) or interactive mode (compromise on efficiency, low time-to-solution)\\n- · Can leverage different accelerators (GPU, MPS, etc).'\n",
            "...\n"
          ]
        }
      ],
      "source": [
        "from langchain_text_splitters import MarkdownHeaderTextSplitter\n",
        "\n",
        "splitter = MarkdownHeaderTextSplitter(\n",
        "    headers_to_split_on=[\n",
        "        (\"#\", \"Header_1\"),\n",
        "        (\"##\", \"Header_2\"),\n",
        "        (\"###\", \"Header_3\"),\n",
        "    ],\n",
        ")\n",
        "splits = [split for doc in docs for split in splitter.split_text(doc.page_content)]\n",
        "\n",
        "for d in splits[:3]:\n",
        "    print(f\"- {d.page_content=}\")\n",
        "print(\"...\")"
      ]
    },
    {
      "cell_type": "code",
      "execution_count": 7,
      "metadata": {
        "id": "1kFFyqb232lo",
        "outputId": "f927d21a-9430-4ba3-f529-11896e0095d3"
      },
      "outputs": [
        {
          "data": {
            "text/markdown": [
              "In this section, we establish some reference numbers for the processing speed of Docling and the resource budget it requires. All tests in this section are run with default options on our standard test set distributed with Docling, which consists of three papers from arXiv and two IBM Redbooks, with a total of 225 pages. Measurements were taken using both available PDF backends on two different hardware systems: one MacBook Pro M3 Max, and one bare-metal server running Ubuntu 20.04 LTS on an Intel Xeon E5-2690 CPU. For reproducibility, we fixed the thread budget (through setting OMP NUM THREADS environment variable ) once to 4 (Docling default) and once to 16 (equal to full core count on the test hardware). All results are shown in Table 1.  \n",
              "If you need to run Docling in very low-resource environments, please consider configuring the pypdfium backend. While it is faster and more memory efficient than the default docling-parse backend, it will come at the expense of worse quality results, especially in table structure recovery.  \n",
              "Establishing GPU acceleration support for the AI models is currently work-in-progress and largely untested, but may work implicitly when CUDA is available and discovered by the onnxruntime and  \n",
              "torch runtimes backing the Docling pipeline. We will deliver updates on this topic at in a future version of this report.  \n",
              "Table 1: Runtime characteristics of Docling with the standard model pipeline and settings, on our test dataset of 225 pages, on two different systems. OCR is disabled. We show the time-to-solution (TTS), computed throughput in pages per second, and the peak memory used (resident set size) for both the Docling-native PDF backend and for the pypdfium backend, using 4 and 16 threads.  \n",
              "| CPU                         | Thread budget   | native backend   | native backend   | native backend   | pypdfium backend   | pypdfium backend   | pypdfium backend   |\n",
              "|-----------------------------|-----------------|------------------|------------------|------------------|--------------------|--------------------|--------------------|\n",
              "|                             |                 | TTS              | Pages/s          | Mem              | TTS                | Pages/s            | Mem                |\n",
              "| Apple M3 Max                | 4               | 177 s 167 s      | 1.27 1.34        | 6.20 GB          | 103 s 92 s         | 2.18 2.45          | 2.56 GB            |\n",
              "| (16 cores) Intel(R) E5-2690 | 16 4 16         | 375 s 244 s      | 0.60 0.92        | 6.16 GB          | 239 s 143 s        | 0.94 1.57          | 2.42 GB            |"
            ],
            "text/plain": [
              "<IPython.core.display.Markdown object>"
            ]
          },
          "metadata": {},
          "output_type": "display_data"
        }
      ],
      "source": [
        "from IPython.display import Markdown\n",
        "\n",
        "display(Markdown(splits[12].page_content))"
      ]
    },
    {
      "cell_type": "code",
      "execution_count": 8,
      "metadata": {
        "id": "cuTZMzWK32lp"
      },
      "outputs": [],
      "source": [
        "from langchain_ollama import OllamaEmbeddings\n",
        "\n",
        "embeddings = OllamaEmbeddings(\n",
        "    model=\"bge-m3:latest\",\n",
        ")"
      ]
    },
    {
      "cell_type": "code",
      "execution_count": 9,
      "metadata": {
        "id": "u6OOBAew32lp"
      },
      "outputs": [],
      "source": [
        "from langchain_qdrant import QdrantVectorStore\n",
        "from langchain_qdrant import RetrievalMode\n",
        "\n",
        "vector_store = QdrantVectorStore.from_documents(\n",
        "    documents=splits,\n",
        "    embedding=embeddings,\n",
        "    location=\":memory:\",\n",
        "    collection_name=\"rag_collection_0228\",\n",
        "    retrieval_mode=RetrievalMode.DENSE\n",
        ")\n",
        "\n",
        "retriever = vector_store.as_retriever(search_kwargs = {'k':10})"
      ]
    },
    {
      "cell_type": "code",
      "execution_count": 11,
      "metadata": {
        "id": "CmR4R-K232lp"
      },
      "outputs": [],
      "source": [
        "from langchain.retrievers import ContextualCompressionRetriever\n",
        "from langchain.retrievers.document_compressors import CrossEncoderReranker\n",
        "from langchain_community.cross_encoders import HuggingFaceCrossEncoder\n",
        "\n",
        "model = HuggingFaceCrossEncoder(model_name=\"BAAI/bge-reranker-base\")\n",
        "\n",
        "compressor = CrossEncoderReranker(model=model, top_n=5)\n",
        "compression_retriever = ContextualCompressionRetriever(\n",
        "    base_compressor=compressor, base_retriever=retriever\n",
        ")"
      ]
    },
    {
      "cell_type": "code",
      "execution_count": 12,
      "metadata": {
        "id": "EvYUM8wG32lp"
      },
      "outputs": [],
      "source": [
        "from langchain_core.messages import HumanMessage\n",
        "from langchain_core.output_parsers import StrOutputParser\n",
        "from langchain_core.prompts import ChatPromptTemplate\n",
        "\n",
        "from langgraph.graph import START, StateGraph, END\n",
        "\n",
        "# 1. 질문 분류 함수 - 중요: 여기서는 상태를 업데이트하는 노드 함수\n",
        "def classify_node(state: RAGState):\n",
        "    \"\"\"질문을 분류하여 처리 모드를 결정합니다.\"\"\"\n",
        "    query = state[\"query\"]\n",
        "\n",
        "    if \"Docling\" in query:\n",
        "        print(\"=====검색 시작=====\")\n",
        "        return {\"mode\": \"retrieve\"}\n",
        "    else:\n",
        "        print(\"=====생성 시작=====\")\n",
        "        return {\"mode\": \"generate\"}\n",
        "\n",
        "\n",
        "# 2. 라우팅 함수 - 중요: 이 함수는 조건부 엣지에서 사용하며 문자열 반환\n",
        "def route_by_mode(state: RAGState) -> Literal[\"retrieve\", \"generate\"]:\n",
        "    \"\"\"모드에 따라 다음 단계를 결정합니다.\"\"\"\n",
        "    return state[\"mode\"]\n",
        "\n",
        "\n",
        "\n",
        "\n",
        "\n",
        "\n",
        "\n",
        "def retrieve(state: RAGState):\n",
        "    \"\"\"질의를 기반으로 관련 문서를 검색합니다.\"\"\"\n",
        "    query = state[\"query\"]\n",
        "    print(\"=====검색 시작=====\")\n",
        "    documents = compression_retriever.invoke(query)\n",
        "    for doc in documents:\n",
        "        print(doc.page_content)\n",
        "        print(\"-\"*100)\n",
        "    print(\"=====검색 완료=====\")\n",
        "    return {\"documents\": documents}\n",
        "\n",
        "\n",
        "\n",
        "\n",
        "\n",
        "\n",
        "\n",
        "def reasoning(state: RAGState):\n",
        "    \"\"\"쿼리를 분석하여 사고 과정을 생성합니다.\"\"\"\n",
        "    query = state[\"query\"]\n",
        "    documents = state[\"documents\"]\n",
        "\n",
        "    context = \"\\n\\n\".join([doc.page_content for doc in documents])\n",
        "\n",
        "    reasoning_prompt = ChatPromptTemplate.from_template(\n",
        "        \"\"\"주어진 문서를 활용하여 사용자의 질문에 가장 적절한 답변을 작성해주세요.\n",
        "\n",
        "        질문: {query}\n",
        "\n",
        "        문서 내용:\n",
        "        {context}\n",
        "\n",
        "\n",
        "        상세 추론:\"\"\"\n",
        "    )\n",
        "\n",
        "    reasoning_chain = reasoning_prompt | reasoning_llm | StrOutputParser()\n",
        "\n",
        "    print(\"=====추론 시작=====\")\n",
        "    thinking = reasoning_chain.invoke({\"query\": query, \"context\": context})\n",
        "\n",
        "    return {\"thinking\": thinking}\n",
        "\n",
        "\n",
        "\n",
        "# 3. 답변 생성 노드 (Answer LLM)\n",
        "def generate(state: RAGState):\n",
        "    \"\"\"문서와 추론 과정을 기반으로 최종 답변을 생성합니다.\"\"\"\n",
        "\n",
        "    query = state[\"query\"]\n",
        "    thinking = state.get(\"thinking\", \"\")  # get 메서드로 안전하게 접근\n",
        "    documents = state.get(\"documents\", [])  # get 메서드로 안전하게 접근\n",
        "\n",
        "    # 문서 내용 추출\n",
        "    context = \"\\n\\n\".join([doc.page_content for doc in documents])\n",
        "\n",
        "    # 최종 답변 생성을 위한 프롬프트\n",
        "    answer_prompt = ChatPromptTemplate.from_template(\n",
        "        \"\"\"사용자 질문에 한글로 답변하세요. 제공된 문서와 추론 과정이 있다면, 최대한 활용하세요.\n",
        "\n",
        "        질문:\n",
        "        {query}\n",
        "\n",
        "        추론 과정:\n",
        "        {thinking}\n",
        "\n",
        "        문서 내용:\n",
        "        {context}\n",
        "\n",
        "        답변:\"\"\"\n",
        "    )\n",
        "    print(\"=====답변 생성 시작=====\")\n",
        "\n",
        "    answer_chain = answer_prompt | answer_llm | StrOutputParser()\n",
        "\n",
        "    answer = answer_chain.invoke({\n",
        "        \"query\": query,\n",
        "        \"thinking\": thinking,\n",
        "        \"context\": context\n",
        "    })\n",
        "    print(\"=====답변 생성 완료=====\")\n",
        "    # 메시지에 답변 추가\n",
        "    return {\n",
        "        \"answer\": answer,\n",
        "        \"messages\": [HumanMessage(content=answer)]\n",
        "    }"
      ]
    },
    {
      "cell_type": "code",
      "execution_count": 13,
      "metadata": {
        "id": "3mCRHYBg32lp"
      },
      "outputs": [],
      "source": [
        "from langgraph.checkpoint.memory import MemorySaver\n",
        "\n",
        "workflow = StateGraph(RAGState)\n",
        "\n",
        "# 노드 추가\n",
        "workflow.add_node(\"classify\", classify_node)\n",
        "workflow.add_node(\"reasoning\", reasoning)\n",
        "workflow.add_node(\"retrieve\", retrieve)\n",
        "workflow.add_node(\"generate\", generate)\n",
        "\n",
        "# 엣지 추가\n",
        "workflow.add_edge(START, \"classify\")\n",
        "workflow.add_conditional_edges(\n",
        "    \"classify\",\n",
        "    route_by_mode,  # 이 함수는 state[\"mode\"] 값을 반환\n",
        "    {\n",
        "        \"retrieve\": \"retrieve\",\n",
        "        \"generate\": \"generate\"\n",
        "    }\n",
        ")\n",
        "workflow.add_edge(\"retrieve\", \"reasoning\")\n",
        "workflow.add_edge(\"reasoning\", \"generate\")\n",
        "\n",
        "workflow.add_edge(\"generate\", END)\n",
        "\n",
        "memory = MemorySaver()\n",
        "app = workflow.compile(checkpointer=memory)"
      ]
    },
    {
      "cell_type": "code",
      "execution_count": 14,
      "metadata": {
        "id": "F7dNfoDq32lp",
        "outputId": "22807e13-034a-4334-a0ec-bd73b0bdc687"
      },
      "outputs": [
        {
          "data": {
            "image/png": "[encoded data removed]",
            "text/plain": [
              "<IPython.core.display.Image object>"
            ]
          },
          "metadata": {},
          "output_type": "display_data"
        }
      ],
      "source": [
        "from IPython.display import Image, display\n",
        "\n",
        "display(Image(app.get_graph().draw_mermaid_png()))"
      ]
    },
    {
      "cell_type": "code",
      "execution_count": 15,
      "metadata": {
        "id": "RVq-ufWH32lp",
        "outputId": "131e4c48-afac-456e-cae8-8fd283171ccc"
      },
      "outputs": [
        {
          "name": "stdout",
          "output_type": "stream",
          "text": [
            "=====검색 시작=====\n",
            "=====검색 시작=====\n",
            "Docling implements a linear pipeline of operations, which execute sequentially on each given document (see Fig. 1). Each document is first parsed by a PDF backend, which retrieves the programmatic text tokens, consisting of string content and its coordinates on the page, and also renders a bitmap image of each page to support downstream operations. Then, the standard model pipeline applies a sequence of AI models independently on every page in the document to extract features and content, such as layout and table structures. Finally, the results from all pages are aggregated and passed through a post-processing stage, which augments metadata, detects the document language, infers reading-order and eventually assembles a typed document object which can be serialized to JSON or Markdown.\n",
            "----------------------------------------------------------------------------------------------------\n",
            "Docling provides a straight-forward interface to extend its capabilities, namely the model pipeline. A model pipeline constitutes the central part in the processing, following initial document parsing and preceding output assembly, and can be fully customized by sub-classing from an abstract baseclass ( BaseModelPipeline ) or cloning the default model pipeline. This effectively allows to fully customize the chain of models, add or replace models, and introduce additional pipeline configuration parameters. To use a custom model pipeline, the custom pipeline class to instantiate can be provided as an argument to the main document conversion methods. We invite everyone in the community to propose additional or alternative models and improvements.  \n",
            "Implementations of model classes must satisfy the python Callable interface. The \\_\\_call\\_\\_ method must accept an iterator over page objects, and produce another iterator over the page objects which were augmented with the additional features predicted by the model, by extending the provided PagePredictions data model accordingly.\n",
            "----------------------------------------------------------------------------------------------------\n",
            "Converting PDF documents back into a machine-processable format has been a major challenge for decades due to their huge variability in formats, weak standardization and printing-optimized characteristic, which discards most structural features and metadata. With the advent of LLMs and popular application patterns such as retrieval-augmented generation (RAG), leveraging the rich content embedded in PDFs has become ever more relevant. In the past decade, several powerful document understanding solutions have emerged on the market, most of which are commercial software, cloud offerings [3] and most recently, multi-modal vision-language models. As of today, only a handful of open-source tools cover PDF conversion, leaving a significant feature and quality gap to proprietary solutions.  \n",
            "With Docling , we open-source a very capable and efficient document conversion tool which builds on the powerful, specialized AI models and datasets for layout analysis and table structure recognition we developed and presented in the recent past [12, 13, 9]. Docling is designed as a simple, self-contained python library with permissive license, running entirely locally on commodity hardware. Its code architecture allows for easy extensibility and addition of new features and models.  \n",
            "Here is what Docling delivers today:  \n",
            "- · Converts PDF documents to JSON or Markdown format, stable and lightning fast\n",
            "- · Understands detailed page layout, reading order, locates figures and recovers table structures\n",
            "- · Extracts metadata from the document, such as title, authors, references and language\n",
            "- · Optionally applies OCR, e.g. for scanned PDFs\n",
            "- · Can be configured to be optimal for batch-mode (i.e high throughput, low time-to-solution) or interactive mode (compromise on efficiency, low time-to-solution)\n",
            "- · Can leverage different accelerators (GPU, MPS, etc).\n",
            "----------------------------------------------------------------------------------------------------\n",
            "Docling provides optional support for OCR, for example to cover scanned PDFs or content in bitmaps images embedded on a page. In our initial release, we rely on EasyOCR [1], a popular thirdparty OCR library with support for many languages. Docling, by default, feeds a high-resolution page image (216 dpi) to the OCR engine, to allow capturing small print detail in decent quality. While EasyOCR delivers reasonable transcription quality, we observe that it runs fairly slow on CPU (upwards of 30 seconds per page).  \n",
            "We are actively seeking collaboration from the open-source community to extend Docling with additional OCR backends and speed improvements.\n",
            "----------------------------------------------------------------------------------------------------\n",
            "Docling is designed to allow easy extension of the model library and pipelines. In the future, we plan to extend Docling with several more models, such as a figure-classifier model, an equationrecognition model, a code-recognition model and more. This will help improve the quality of conversion for specific types of content, as well as augment extracted document metadata with additional information. Further investment into testing and optimizing GPU acceleration as well as improving the Docling-native PDF backend are on our roadmap, too.  \n",
            "We encourage everyone to propose or implement additional features and models, and will gladly take your inputs and contributions under review . The codebase of Docling is open for use and contribution, under the MIT license agreement and in alignment with our contributing guidelines included in the Docling repository. If you use Docling in your projects, please consider citing this technical report.\n",
            "----------------------------------------------------------------------------------------------------\n",
            "=====검색 완료=====\n",
            "=====추론 시작=====\n",
            "<think>\n",
            "Okay, so I need to figure out how Docling differs from other libraries used for converting PDFs into machine-readable formats like JSON or Markdown. Let me start by reading through the provided document content carefully.\n",
            "\n",
            "First, I see that the main features of Docling are listed towards the end. It mentions things like handling page layout, understanding reading order, detecting figures and tables, extracting metadata such as titles and authors, and supporting OCR for scanned PDFs. It also talks about being optimized for either batch processing or interactive use, with support for different accelerators like GPUs.\n",
            "\n",
            "Looking at how the model pipeline works in Docling, it says you can extend its capabilities by subclassing an abstract base class. This means users can customize the chain of models as needed. Each document is parsed by a PDF backend that extracts text tokens and creates bitmap images for pages. Then AI models are applied independently to each page to extract features like layout and tables.\n",
            "\n",
            "In comparison, other libraries might not offer such flexibility or might have different approaches in handling these aspects. For example, some might rely more on pre-trained models without as much customization options. Docling's emphasis on extensibility seems unique.\n",
            "\n",
            "Another point is the mention of Open-source versus proprietary solutions. The document highlights that only a few open-source tools cover PDF conversion, leaving gaps compared to commercial offerings. Docling addresses this by being permissive under an MIT license and running entirely locally without needing commodity hardware setups beyond what's standard for Python libraries.\n",
            "\n",
            "OCR support in Docling is mentioned as optional but initially uses EasyOCR with high resolution images. The slow performance of OCR on CPU might be a limitation, which could be something other tools handle differently.\n",
            "\n",
            "Putting this together, Docling's main differences are its extensibility, focus on PDF-specific features like layout analysis and table structures, integrated OCR capabilities (though with some limitations), and open-source licensing compared to proprietary solutions. Other libraries might offer similar features but without the same level of customization or may not be as efficient in handling these specific tasks.\n",
            "\n",
            "\n",
            "\n",
            "=====답변 생성 시작=====\n",
            "Docling은 다른 PDF 변환 라이브러리와 비교했을 때 다음과 같은 주요 차이점을 가지고 있습니다:\n",
            "\n",
            "1. **확장성과 커스터마이징**:\n",
            "   - **Docling**은 사용자가 모델 파이프라인을 확장하고 커스터마이징할 수 있는 유연성을 제공합니다. 추상 기반 클래스를 상속받아 파이프라인을 맞춤 설정할 수 있어, 특정 작업에 맞게 모델 체인을 조정할 수 있습니다. 이는 다른 라이브러리들이 제공하는 일반적인 기능보다 훨씬 더 높은 수준의 사용자 정의를 가능하게 합니다.\n",
            "\n",
            "2. **PDF 특화 기능**:\n",
            "   - **페이지 레이아웃 분석** 및 **표 구조 인식** 등 PDF 문서의 고유한 특성을 효과적으로 처리합니다. 이는 단순히 텍스트 추출을 넘어 문서의 구조적 이해를 높이는 데 중점을 두고 있습니다. 다른 라이브러리들이 이러한 세부적인 분석을 제공하지 않거나 덜 강조하는 경우가 많습니다.\n",
            "\n",
            "3. **OCR 지원**:\n",
            "   - **Docling**은 스캔된 PDF나 비트맵 이미지 내의 내용을 처리하기 위해 OCR 기능을 옵션으로 제공합니다. 초기 구현에서는 EasyOCR을 사용하지만, 성능 향상을 위해 커뮤니티의 기여를 적극적으로 환영합니다. 일부 다른 라이브러리들은 OCR 기능을 제공하지 않거나 제한적으로 지원할 수 있습니다.\n",
            "\n",
            "4. **오픈 소스 라이선스**:\n",
            "   - **Docling**은 MIT 라이선스 하에 오픈 소스로 제공되어 사용자들이 자유롭게 사용하고 개선할 수 있습니다. 이는 상용 솔루션이나 제한적인 오픈 소스 도구들과 대조되며, 특히 하드웨어 요구사항이 낮아 로컬 환경에서 쉽게 실행할 수 있습니다.\n",
            "\n",
            "5. **효율성과 성능**:\n",
            "   - **Docling**은 배치 처리와 인터랙티브 모드 모두에서 최적화되어 있으며, GPU와 같은 가속기 지원을 통해 빠른 처리 속도를 제공합니다. 이는 다른 라이브러리들이 제공하는 기능과 비교했을 때 더 높은 효율성을 자랑합니다.\n",
            "\n",
            "이러한 특징들로 인해 Docling은 PDF 문서를 기계 판독 가능한 형식으로 변환하는 데 있어 높은 유연성, 특화된 기능, 그리고 오픈 소스의 이점을 결합한 독특한 솔루션을 제공합니다.\n",
            "\n",
            "\n",
            "=====답변 생성 완료=====\n"
          ]
        }
      ],
      "source": [
        "input={\"query\":\"Docling이 다른 라이브러리와 다른 점이 무엇인지 설명해줘\"}\n",
        "config={\"configurable\": {\"thread_id\": 0}}\n",
        "\n",
        "async for event in app.astream_events(\n",
        "    input=input, stream_mode=\"events\", version=\"v2\",config=config\n",
        "    ):\n",
        "\n",
        "    kind = event[\"event\"]\n",
        "\n",
        "    if kind == \"on_chat_model_stream\":\n",
        "        chunk = event[\"data\"][\"chunk\"].content\n",
        "        print(chunk, end=\"\", flush=True)\n",
        "\n",
        "    elif kind == \"on_retriever_end \":\n",
        "        print(event)\n",
        "\n",
        "    elif kind == \"on_chat_model_end\":\n",
        "        print(\"\\n\\n\")"
      ]
    },
    {
      "cell_type": "code",
      "execution_count": 16,
      "metadata": {
        "id": "ZxSP3PMT32lp",
        "outputId": "e5c56a38-d692-4384-f34e-4a02e0204508"
      },
      "outputs": [
        {
          "ename": "KeyError",
          "evalue": "'documents'",
          "output_type": "error",
          "traceback": [
            "\u001b[31m---------------------------------------------------------------------------\u001b[39m",
            "\u001b[31mKeyError\u001b[39m                                  Traceback (most recent call last)",
            "\u001b[36mCell\u001b[39m\u001b[36m \u001b[39m\u001b[32mIn[16]\u001b[39m\u001b[32m, line 2\u001b[39m\n\u001b[32m      1\u001b[39m snap=app.get_state(config)\n\u001b[32m----> \u001b[39m\u001b[32m2\u001b[39m \u001b[43msnap\u001b[49m\u001b[43m.\u001b[49m\u001b[43mvalues\u001b[49m\u001b[43m[\u001b[49m\u001b[33;43m'\u001b[39;49m\u001b[33;43mdocuments\u001b[39;49m\u001b[33;43m'\u001b[39;49m\u001b[43m]\u001b[49m\n",
            "\u001b[31mKeyError\u001b[39m: 'documents'"
          ]
        }
      ],
      "source": [
        "snap=app.get_state(config)\n",
        "snap.values['documents']"
      ]
    },
    {
      "cell_type": "code",
      "execution_count": 17,
      "metadata": {},
      "outputs": [
        {
          "data": {
            "text/plain": [
              "StateSnapshot(values={}, next=(), config={'configurable': {'thread_id': '0'}}, metadata=None, created_at=None, parent_config=None, tasks=(), interrupts=())"
            ]
          },
          "execution_count": 17,
          "metadata": {},
          "output_type": "execute_result"
        }
      ],
      "source": [
        "snap"
      ]
    },
    {
      "cell_type": "code",
      "execution_count": null,
      "metadata": {},
      "outputs": [],
      "source": []
    }
  ],
  "metadata": {
    "colab": {
      "provenance": []
    },
    "kernelspec": {
      "display_name": "venv",
      "language": "python",
      "name": "python3"
    },
    "language_info": {
      "codemirror_mode": {
        "name": "ipython",
        "version": 3
      },
      "file_extension": ".py",
      "mimetype": "text/x-python",
      "name": "python",
      "nbconvert_exporter": "python",
      "pygments_lexer": "ipython3",
      "version": "3.11.9"
    }
  },
  "nbformat": 4,
  "nbformat_minor": 0
}
